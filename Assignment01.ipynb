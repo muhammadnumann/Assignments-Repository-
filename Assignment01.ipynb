{
 "cells": [
  {
   "cell_type": "markdown",
   "id": "7dafd304",
   "metadata": {},
   "source": [
    "# Muhammad Numan"
   ]
  },
  {
   "cell_type": "markdown",
   "id": "2dfd7bc9",
   "metadata": {},
   "source": [
    "# L1F20BSCS0238"
   ]
  },
  {
   "cell_type": "markdown",
   "id": "0eab410c",
   "metadata": {},
   "source": [
    "# Q1. Find the total number of patients of each disease (diagnosis) and plot in histogram"
   ]
  },
  {
   "cell_type": "code",
   "execution_count": 26,
   "id": "07a89cc8",
   "metadata": {},
   "outputs": [],
   "source": [
    "import pandas as pd\n",
    "import numpy as np"
   ]
  },
  {
   "cell_type": "code",
   "execution_count": 4,
   "id": "4cf35002",
   "metadata": {},
   "outputs": [
    {
     "data": {
      "text/plain": [
       "study_id      0\n",
       "subtlety     93\n",
       "size         93\n",
       "age           0\n",
       "gender        0\n",
       "x            93\n",
       "y            93\n",
       "state         0\n",
       "position     93\n",
       "diagnosis    93\n",
       "dtype: int64"
      ]
     },
     "execution_count": 4,
     "metadata": {},
     "output_type": "execute_result"
    }
   ],
   "source": [
    "df=pd.read_csv(\"jsrt_metadata.csv\")\n",
    "df.isnull().sum()"
   ]
  },
  {
   "cell_type": "code",
   "execution_count": 5,
   "id": "702d99d5",
   "metadata": {},
   "outputs": [
    {
     "data": {
      "text/html": [
       "<div>\n",
       "<style scoped>\n",
       "    .dataframe tbody tr th:only-of-type {\n",
       "        vertical-align: middle;\n",
       "    }\n",
       "\n",
       "    .dataframe tbody tr th {\n",
       "        vertical-align: top;\n",
       "    }\n",
       "\n",
       "    .dataframe thead th {\n",
       "        text-align: right;\n",
       "    }\n",
       "</style>\n",
       "<table border=\"1\" class=\"dataframe\">\n",
       "  <thead>\n",
       "    <tr style=\"text-align: right;\">\n",
       "      <th></th>\n",
       "      <th>study_id</th>\n",
       "      <th>subtlety</th>\n",
       "      <th>size</th>\n",
       "      <th>age</th>\n",
       "      <th>gender</th>\n",
       "      <th>x</th>\n",
       "      <th>y</th>\n",
       "      <th>state</th>\n",
       "      <th>position</th>\n",
       "      <th>diagnosis</th>\n",
       "    </tr>\n",
       "  </thead>\n",
       "  <tbody>\n",
       "    <tr>\n",
       "      <th>0</th>\n",
       "      <td>JPCLN001.png</td>\n",
       "      <td>5.0</td>\n",
       "      <td>15.0</td>\n",
       "      <td>53</td>\n",
       "      <td>Male</td>\n",
       "      <td>1634.0</td>\n",
       "      <td>692.0</td>\n",
       "      <td>malignant</td>\n",
       "      <td>l.upper lobe</td>\n",
       "      <td>lung cancer</td>\n",
       "    </tr>\n",
       "    <tr>\n",
       "      <th>1</th>\n",
       "      <td>JPCLN002.png</td>\n",
       "      <td>5.0</td>\n",
       "      <td>30.0</td>\n",
       "      <td>78</td>\n",
       "      <td>Female</td>\n",
       "      <td>1614.0</td>\n",
       "      <td>1090.0</td>\n",
       "      <td>benign</td>\n",
       "      <td>l.upper lobe(S5)</td>\n",
       "      <td>pulmonary hematoma</td>\n",
       "    </tr>\n",
       "    <tr>\n",
       "      <th>2</th>\n",
       "      <td>JPCLN003.png</td>\n",
       "      <td>5.0</td>\n",
       "      <td>30.0</td>\n",
       "      <td>63</td>\n",
       "      <td>Female</td>\n",
       "      <td>1303.0</td>\n",
       "      <td>447.0</td>\n",
       "      <td>malignant</td>\n",
       "      <td>l.upper lobe(S1+2)</td>\n",
       "      <td>lung cancer</td>\n",
       "    </tr>\n",
       "    <tr>\n",
       "      <th>3</th>\n",
       "      <td>JPCLN004.png</td>\n",
       "      <td>5.0</td>\n",
       "      <td>14.0</td>\n",
       "      <td>68</td>\n",
       "      <td>Female</td>\n",
       "      <td>606.0</td>\n",
       "      <td>836.0</td>\n",
       "      <td>benign</td>\n",
       "      <td>r.upper lobe</td>\n",
       "      <td>Inflammatory mass</td>\n",
       "    </tr>\n",
       "    <tr>\n",
       "      <th>4</th>\n",
       "      <td>JPCLN005.png</td>\n",
       "      <td>5.0</td>\n",
       "      <td>35.0</td>\n",
       "      <td>73</td>\n",
       "      <td>Female</td>\n",
       "      <td>1438.0</td>\n",
       "      <td>692.0</td>\n",
       "      <td>malignant</td>\n",
       "      <td>l.upper lobe(S3)</td>\n",
       "      <td>lung cancer</td>\n",
       "    </tr>\n",
       "    <tr>\n",
       "      <th>...</th>\n",
       "      <td>...</td>\n",
       "      <td>...</td>\n",
       "      <td>...</td>\n",
       "      <td>...</td>\n",
       "      <td>...</td>\n",
       "      <td>...</td>\n",
       "      <td>...</td>\n",
       "      <td>...</td>\n",
       "      <td>...</td>\n",
       "      <td>...</td>\n",
       "    </tr>\n",
       "    <tr>\n",
       "      <th>242</th>\n",
       "      <td>JPCNN089.png</td>\n",
       "      <td>NaN</td>\n",
       "      <td>NaN</td>\n",
       "      <td>50</td>\n",
       "      <td>Male</td>\n",
       "      <td>NaN</td>\n",
       "      <td>NaN</td>\n",
       "      <td>non-nodule</td>\n",
       "      <td>NaN</td>\n",
       "      <td>NaN</td>\n",
       "    </tr>\n",
       "    <tr>\n",
       "      <th>243</th>\n",
       "      <td>JPCNN090.png</td>\n",
       "      <td>NaN</td>\n",
       "      <td>NaN</td>\n",
       "      <td>68</td>\n",
       "      <td>Female</td>\n",
       "      <td>NaN</td>\n",
       "      <td>NaN</td>\n",
       "      <td>non-nodule</td>\n",
       "      <td>NaN</td>\n",
       "      <td>NaN</td>\n",
       "    </tr>\n",
       "    <tr>\n",
       "      <th>244</th>\n",
       "      <td>JPCNN091.png</td>\n",
       "      <td>NaN</td>\n",
       "      <td>NaN</td>\n",
       "      <td>81</td>\n",
       "      <td>Male</td>\n",
       "      <td>NaN</td>\n",
       "      <td>NaN</td>\n",
       "      <td>non-nodule</td>\n",
       "      <td>NaN</td>\n",
       "      <td>NaN</td>\n",
       "    </tr>\n",
       "    <tr>\n",
       "      <th>245</th>\n",
       "      <td>JPCNN092.png</td>\n",
       "      <td>NaN</td>\n",
       "      <td>NaN</td>\n",
       "      <td>70</td>\n",
       "      <td>Female</td>\n",
       "      <td>NaN</td>\n",
       "      <td>NaN</td>\n",
       "      <td>non-nodule</td>\n",
       "      <td>NaN</td>\n",
       "      <td>NaN</td>\n",
       "    </tr>\n",
       "    <tr>\n",
       "      <th>246</th>\n",
       "      <td>JPCNN093.png</td>\n",
       "      <td>NaN</td>\n",
       "      <td>NaN</td>\n",
       "      <td>41</td>\n",
       "      <td>Male</td>\n",
       "      <td>NaN</td>\n",
       "      <td>NaN</td>\n",
       "      <td>non-nodule</td>\n",
       "      <td>NaN</td>\n",
       "      <td>NaN</td>\n",
       "    </tr>\n",
       "  </tbody>\n",
       "</table>\n",
       "<p>247 rows × 10 columns</p>\n",
       "</div>"
      ],
      "text/plain": [
       "         study_id  subtlety  size age  gender       x       y       state  \\\n",
       "0    JPCLN001.png       5.0  15.0  53    Male  1634.0   692.0   malignant   \n",
       "1    JPCLN002.png       5.0  30.0  78  Female  1614.0  1090.0      benign   \n",
       "2    JPCLN003.png       5.0  30.0  63  Female  1303.0   447.0   malignant   \n",
       "3    JPCLN004.png       5.0  14.0  68  Female   606.0   836.0      benign   \n",
       "4    JPCLN005.png       5.0  35.0  73  Female  1438.0   692.0   malignant   \n",
       "..            ...       ...   ...  ..     ...     ...     ...         ...   \n",
       "242  JPCNN089.png       NaN   NaN  50    Male     NaN     NaN  non-nodule   \n",
       "243  JPCNN090.png       NaN   NaN  68  Female     NaN     NaN  non-nodule   \n",
       "244  JPCNN091.png       NaN   NaN  81    Male     NaN     NaN  non-nodule   \n",
       "245  JPCNN092.png       NaN   NaN  70  Female     NaN     NaN  non-nodule   \n",
       "246  JPCNN093.png       NaN   NaN  41    Male     NaN     NaN  non-nodule   \n",
       "\n",
       "               position           diagnosis  \n",
       "0          l.upper lobe         lung cancer  \n",
       "1      l.upper lobe(S5)  pulmonary hematoma  \n",
       "2    l.upper lobe(S1+2)         lung cancer  \n",
       "3          r.upper lobe   Inflammatory mass  \n",
       "4      l.upper lobe(S3)         lung cancer  \n",
       "..                  ...                 ...  \n",
       "242                 NaN                 NaN  \n",
       "243                 NaN                 NaN  \n",
       "244                 NaN                 NaN  \n",
       "245                 NaN                 NaN  \n",
       "246                 NaN                 NaN  \n",
       "\n",
       "[247 rows x 10 columns]"
      ]
     },
     "execution_count": 5,
     "metadata": {},
     "output_type": "execute_result"
    }
   ],
   "source": [
    "df"
   ]
  },
  {
   "cell_type": "code",
   "execution_count": 6,
   "id": "e4fe8987",
   "metadata": {},
   "outputs": [
    {
     "data": {
      "text/plain": [
       "0             lung cancer\n",
       "1      pulmonary hematoma\n",
       "2             lung cancer\n",
       "3       Inflammatory mass\n",
       "4             lung cancer\n",
       "              ...        \n",
       "242           lung cancer\n",
       "243           lung cancer\n",
       "244           lung cancer\n",
       "245           lung cancer\n",
       "246           lung cancer\n",
       "Name: diagnosis, Length: 247, dtype: object"
      ]
     },
     "execution_count": 6,
     "metadata": {},
     "output_type": "execute_result"
    }
   ],
   "source": [
    "c=df['diagnosis'].value_counts().idxmax()\n",
    "df[\"diagnosis\"].replace(np.nan,c,inplace=True)#to replace null values with most occuring value\n",
    "df['diagnosis']"
   ]
  },
  {
   "cell_type": "code",
   "execution_count": 7,
   "id": "431d25c2",
   "metadata": {},
   "outputs": [
    {
     "data": {
      "text/html": [
       "<div>\n",
       "<style scoped>\n",
       "    .dataframe tbody tr th:only-of-type {\n",
       "        vertical-align: middle;\n",
       "    }\n",
       "\n",
       "    .dataframe tbody tr th {\n",
       "        vertical-align: top;\n",
       "    }\n",
       "\n",
       "    .dataframe thead th {\n",
       "        text-align: right;\n",
       "    }\n",
       "</style>\n",
       "<table border=\"1\" class=\"dataframe\">\n",
       "  <thead>\n",
       "    <tr style=\"text-align: right;\">\n",
       "      <th></th>\n",
       "      <th>study_id</th>\n",
       "      <th>subtlety</th>\n",
       "      <th>size</th>\n",
       "      <th>age</th>\n",
       "      <th>gender</th>\n",
       "      <th>x</th>\n",
       "      <th>y</th>\n",
       "      <th>state</th>\n",
       "      <th>position</th>\n",
       "      <th>diagnosis</th>\n",
       "    </tr>\n",
       "  </thead>\n",
       "  <tbody>\n",
       "    <tr>\n",
       "      <th>0</th>\n",
       "      <td>JPCLN001.png</td>\n",
       "      <td>5.0</td>\n",
       "      <td>15.0</td>\n",
       "      <td>53</td>\n",
       "      <td>Male</td>\n",
       "      <td>1634.0</td>\n",
       "      <td>692.0</td>\n",
       "      <td>malignant</td>\n",
       "      <td>l.upper lobe</td>\n",
       "      <td>lung cancer</td>\n",
       "    </tr>\n",
       "    <tr>\n",
       "      <th>1</th>\n",
       "      <td>JPCLN002.png</td>\n",
       "      <td>5.0</td>\n",
       "      <td>30.0</td>\n",
       "      <td>78</td>\n",
       "      <td>Female</td>\n",
       "      <td>1614.0</td>\n",
       "      <td>1090.0</td>\n",
       "      <td>benign</td>\n",
       "      <td>l.upper lobe(S5)</td>\n",
       "      <td>pulmonary hematoma</td>\n",
       "    </tr>\n",
       "    <tr>\n",
       "      <th>2</th>\n",
       "      <td>JPCLN003.png</td>\n",
       "      <td>5.0</td>\n",
       "      <td>30.0</td>\n",
       "      <td>63</td>\n",
       "      <td>Female</td>\n",
       "      <td>1303.0</td>\n",
       "      <td>447.0</td>\n",
       "      <td>malignant</td>\n",
       "      <td>l.upper lobe(S1+2)</td>\n",
       "      <td>lung cancer</td>\n",
       "    </tr>\n",
       "    <tr>\n",
       "      <th>3</th>\n",
       "      <td>JPCLN004.png</td>\n",
       "      <td>5.0</td>\n",
       "      <td>14.0</td>\n",
       "      <td>68</td>\n",
       "      <td>Female</td>\n",
       "      <td>606.0</td>\n",
       "      <td>836.0</td>\n",
       "      <td>benign</td>\n",
       "      <td>r.upper lobe</td>\n",
       "      <td>Inflammatory mass</td>\n",
       "    </tr>\n",
       "    <tr>\n",
       "      <th>4</th>\n",
       "      <td>JPCLN005.png</td>\n",
       "      <td>5.0</td>\n",
       "      <td>35.0</td>\n",
       "      <td>73</td>\n",
       "      <td>Female</td>\n",
       "      <td>1438.0</td>\n",
       "      <td>692.0</td>\n",
       "      <td>malignant</td>\n",
       "      <td>l.upper lobe(S3)</td>\n",
       "      <td>lung cancer</td>\n",
       "    </tr>\n",
       "    <tr>\n",
       "      <th>...</th>\n",
       "      <td>...</td>\n",
       "      <td>...</td>\n",
       "      <td>...</td>\n",
       "      <td>...</td>\n",
       "      <td>...</td>\n",
       "      <td>...</td>\n",
       "      <td>...</td>\n",
       "      <td>...</td>\n",
       "      <td>...</td>\n",
       "      <td>...</td>\n",
       "    </tr>\n",
       "    <tr>\n",
       "      <th>242</th>\n",
       "      <td>JPCNN089.png</td>\n",
       "      <td>NaN</td>\n",
       "      <td>NaN</td>\n",
       "      <td>50</td>\n",
       "      <td>Male</td>\n",
       "      <td>NaN</td>\n",
       "      <td>NaN</td>\n",
       "      <td>non-nodule</td>\n",
       "      <td>NaN</td>\n",
       "      <td>lung cancer</td>\n",
       "    </tr>\n",
       "    <tr>\n",
       "      <th>243</th>\n",
       "      <td>JPCNN090.png</td>\n",
       "      <td>NaN</td>\n",
       "      <td>NaN</td>\n",
       "      <td>68</td>\n",
       "      <td>Female</td>\n",
       "      <td>NaN</td>\n",
       "      <td>NaN</td>\n",
       "      <td>non-nodule</td>\n",
       "      <td>NaN</td>\n",
       "      <td>lung cancer</td>\n",
       "    </tr>\n",
       "    <tr>\n",
       "      <th>244</th>\n",
       "      <td>JPCNN091.png</td>\n",
       "      <td>NaN</td>\n",
       "      <td>NaN</td>\n",
       "      <td>81</td>\n",
       "      <td>Male</td>\n",
       "      <td>NaN</td>\n",
       "      <td>NaN</td>\n",
       "      <td>non-nodule</td>\n",
       "      <td>NaN</td>\n",
       "      <td>lung cancer</td>\n",
       "    </tr>\n",
       "    <tr>\n",
       "      <th>245</th>\n",
       "      <td>JPCNN092.png</td>\n",
       "      <td>NaN</td>\n",
       "      <td>NaN</td>\n",
       "      <td>70</td>\n",
       "      <td>Female</td>\n",
       "      <td>NaN</td>\n",
       "      <td>NaN</td>\n",
       "      <td>non-nodule</td>\n",
       "      <td>NaN</td>\n",
       "      <td>lung cancer</td>\n",
       "    </tr>\n",
       "    <tr>\n",
       "      <th>246</th>\n",
       "      <td>JPCNN093.png</td>\n",
       "      <td>NaN</td>\n",
       "      <td>NaN</td>\n",
       "      <td>41</td>\n",
       "      <td>Male</td>\n",
       "      <td>NaN</td>\n",
       "      <td>NaN</td>\n",
       "      <td>non-nodule</td>\n",
       "      <td>NaN</td>\n",
       "      <td>lung cancer</td>\n",
       "    </tr>\n",
       "  </tbody>\n",
       "</table>\n",
       "<p>247 rows × 10 columns</p>\n",
       "</div>"
      ],
      "text/plain": [
       "         study_id  subtlety  size age  gender       x       y       state  \\\n",
       "0    JPCLN001.png       5.0  15.0  53    Male  1634.0   692.0   malignant   \n",
       "1    JPCLN002.png       5.0  30.0  78  Female  1614.0  1090.0      benign   \n",
       "2    JPCLN003.png       5.0  30.0  63  Female  1303.0   447.0   malignant   \n",
       "3    JPCLN004.png       5.0  14.0  68  Female   606.0   836.0      benign   \n",
       "4    JPCLN005.png       5.0  35.0  73  Female  1438.0   692.0   malignant   \n",
       "..            ...       ...   ...  ..     ...     ...     ...         ...   \n",
       "242  JPCNN089.png       NaN   NaN  50    Male     NaN     NaN  non-nodule   \n",
       "243  JPCNN090.png       NaN   NaN  68  Female     NaN     NaN  non-nodule   \n",
       "244  JPCNN091.png       NaN   NaN  81    Male     NaN     NaN  non-nodule   \n",
       "245  JPCNN092.png       NaN   NaN  70  Female     NaN     NaN  non-nodule   \n",
       "246  JPCNN093.png       NaN   NaN  41    Male     NaN     NaN  non-nodule   \n",
       "\n",
       "               position           diagnosis  \n",
       "0          l.upper lobe         lung cancer  \n",
       "1      l.upper lobe(S5)  pulmonary hematoma  \n",
       "2    l.upper lobe(S1+2)         lung cancer  \n",
       "3          r.upper lobe   Inflammatory mass  \n",
       "4      l.upper lobe(S3)         lung cancer  \n",
       "..                  ...                 ...  \n",
       "242                 NaN         lung cancer  \n",
       "243                 NaN         lung cancer  \n",
       "244                 NaN         lung cancer  \n",
       "245                 NaN         lung cancer  \n",
       "246                 NaN         lung cancer  \n",
       "\n",
       "[247 rows x 10 columns]"
      ]
     },
     "execution_count": 7,
     "metadata": {},
     "output_type": "execute_result"
    }
   ],
   "source": [
    "df"
   ]
  },
  {
   "cell_type": "code",
   "execution_count": 19,
   "id": "d5acc64b",
   "metadata": {},
   "outputs": [
    {
     "data": {
      "text/plain": [
       "0             lung cancer\n",
       "1      pulmonary hematoma\n",
       "2             lung cancer\n",
       "3       Inflammatory mass\n",
       "4             lung cancer\n",
       "              ...        \n",
       "242           lung cancer\n",
       "243           lung cancer\n",
       "244           lung cancer\n",
       "245           lung cancer\n",
       "246           lung cancer\n",
       "Name: diagnosis, Length: 247, dtype: object"
      ]
     },
     "execution_count": 19,
     "metadata": {},
     "output_type": "execute_result"
    }
   ],
   "source": [
    "import matplotlib as plt\n",
    "from matplotlib import pyplot\n",
    "df['diagnosis']"
   ]
  },
  {
   "cell_type": "code",
   "execution_count": 20,
   "id": "866bc5ff",
   "metadata": {},
   "outputs": [
    {
     "data": {
      "text/plain": [
       "(array([30.,  1.,  0.,  0.,  0.,  0.,  0.,  0.,  0.,  1.]),\n",
       " array([  1. ,  15.8,  30.6,  45.4,  60.2,  75. ,  89.8, 104.6, 119.4,\n",
       "        134.2, 149. ]),\n",
       " <BarContainer object of 10 artists>)"
      ]
     },
     "execution_count": 20,
     "metadata": {},
     "output_type": "execute_result"
    },
    {
     "data": {
      "image/png": "[encoded data removed]",
      "text/plain": [
       "<Figure size 432x288 with 1 Axes>"
      ]
     },
     "metadata": {
      "needs_background": "light"
     },
     "output_type": "display_data"
    }
   ],
   "source": [
    "plt.pyplot.hist(df['diagnosis'].value_counts(),color='Yellow',ec='Black')"
   ]
  },
  {
   "cell_type": "code",
   "execution_count": 10,
   "id": "c8f44182",
   "metadata": {},
   "outputs": [
    {
     "data": {
      "text/plain": [
       "lung cancer                                       149\n",
       "lung cancer(adenocarcinoma)                        23\n",
       "tuberculoma                                        14\n",
       "granuloma                                           8\n",
       "lung cancer(bronchioloalveolar cell carcinoma)      7\n",
       "unknown                                             4\n",
       "metastasis of colon cancer                          4\n",
       "inflammatory mass                                   4\n",
       "pulmonary tuberculosis                              3\n",
       "lung abscess                                        2\n",
       "Cryptococcosis                                      2\n",
       "lung cancer(squamous cell carcinoma)                2\n",
       "Inflammatory mass                                   2\n",
       "pulmonary hematoma                                  2\n",
       "susp. inflammatory mass                             2\n",
       "hamartoma                                           2\n",
       "sclerosing hemangioma                               2\n",
       "lung cancer(large cell carcinoma)                   1\n",
       "susp. hamartoma                                     1\n",
       "metastasis of uterine cancer                        1\n",
       "organizing pneumonia                                1\n",
       "metastasis of ovarian cancer                        1\n",
       "metastatic lung cancer                              1\n",
       "lung canceror metastasis                            1\n",
       "pneumonia                                           1\n",
       "calcified granuloma                                 1\n",
       "lung cancer(adenosquamous carcinoma)                1\n",
       "lung cancer(small cell carcinoma)                   1\n",
       "susp.tuberculoma                                    1\n",
       "organiging pneumonia                                1\n",
       "susp. sclerosing hemangioma                         1\n",
       "susp. lung metastasis                               1\n",
       "Name: diagnosis, dtype: int64"
      ]
     },
     "execution_count": 10,
     "metadata": {},
     "output_type": "execute_result"
    }
   ],
   "source": [
    "df['diagnosis'].value_counts()#counts of the patiens "
   ]
  },
  {
   "cell_type": "code",
   "execution_count": 22,
   "id": "0a0b3ee9",
   "metadata": {},
   "outputs": [
    {
     "data": {
      "text/plain": [
       "(array([167.,  33.,  13.,   5.,   8.,   7.,   3.,   3.,   4.,   4.]),\n",
       " array([ 0. ,  3.1,  6.2,  9.3, 12.4, 15.5, 18.6, 21.7, 24.8, 27.9, 31. ]),\n",
       " <BarContainer object of 10 artists>)"
      ]
     },
     "execution_count": 22,
     "metadata": {},
     "output_type": "execute_result"
    },
    {
     "data": {
      "image/png": "[encoded data removed]",
      "text/plain": [
       "<Figure size 432x288 with 1 Axes>"
      ]
     },
     "metadata": {
      "needs_background": "light"
     },
     "output_type": "display_data"
    }
   ],
   "source": [
    "plt.pyplot.title(\"Diagnosis\")\n",
    "plt.pyplot.xlabel(\"Diases\")\n",
    "plt.pyplot.ylabel(\"Patients\")\n",
    "plt.pyplot.hist(df['diagnosis'],color='Green')"
   ]
  },
  {
   "cell_type": "markdown",
   "id": "cf2aac9b",
   "metadata": {},
   "source": [
    "# Q2 Find the total number of patients of each disease (diagnosis) with respect to the disease state(malignant or benign) and plot in a pie chart.\n"
   ]
  },
  {
   "cell_type": "code",
   "execution_count": 12,
   "id": "f3ade70c",
   "metadata": {},
   "outputs": [
    {
     "data": {
      "text/plain": [
       "93"
      ]
     },
     "execution_count": 12,
     "metadata": {},
     "output_type": "execute_result"
    }
   ],
   "source": [
    "rep='non-nodule'\n",
    "df[\"state\"].replace(rep,np.nan,inplace=True)\n",
    "df[\"state\"].isnull().sum()"
   ]
  },
  {
   "cell_type": "code",
   "execution_count": 13,
   "id": "2142e72a",
   "metadata": {},
   "outputs": [],
   "source": [
    "mx=df['state'].value_counts().idxmax()\n",
    "df['state'].replace(np.nan,mx,inplace=True)"
   ]
  },
  {
   "cell_type": "code",
   "execution_count": 25,
   "id": "cddd95d0",
   "metadata": {},
   "outputs": [
    {
     "data": {
      "text/plain": [
       "([<matplotlib.patches.Wedge at 0x24173d38760>,\n",
       "  <matplotlib.patches.Wedge at 0x24173d48190>],\n",
       " [Text(-0.6974945252851811, -0.8505888473270738, 'Malignant'),\n",
       "  Text(0.8877202035511125, 1.0825677069851898, 'Benign')],\n",
       " [Text(-0.38045155924646235, -0.46395755308749476, '78.1%'),\n",
       "  Text(0.5706772737114294, 0.6959363830619076, '21.9%')])"
      ]
     },
     "execution_count": 25,
     "metadata": {},
     "output_type": "execute_result"
    },
    {
     "data": {
      "image/png": "[encoded data removed]",
      "text/plain": [
       "<Figure size 432x288 with 1 Axes>"
      ]
     },
     "metadata": {},
     "output_type": "display_data"
    }
   ],
   "source": [
    "plt.pyplot.pie(df['state'].value_counts(),explode=[0,0.3],labels=['Malignant','Benign'],autopct='%1.1f%%',shadow=True,startangle=90)"
   ]
  },
  {
   "cell_type": "markdown",
   "id": "ef5328e2",
   "metadata": {},
   "source": [
    "# Q3. Find and plot via pia chart the total number of patients of each disease (diagnosis) with respect to the gender(Female, Male)\n"
   ]
  },
  {
   "cell_type": "code",
   "execution_count": 15,
   "id": "99ee0af6",
   "metadata": {},
   "outputs": [
    {
     "data": {
      "text/plain": [
       "0        Male\n",
       "1      Female\n",
       "2      Female\n",
       "3      Female\n",
       "4      Female\n",
       "        ...  \n",
       "242      Male\n",
       "243    Female\n",
       "244      Male\n",
       "245    Female\n",
       "246      Male\n",
       "Name: gender, Length: 247, dtype: object"
      ]
     },
     "execution_count": 15,
     "metadata": {},
     "output_type": "execute_result"
    }
   ],
   "source": [
    "df[\"gender\"]"
   ]
  },
  {
   "cell_type": "code",
   "execution_count": 24,
   "id": "2d6b24cd",
   "metadata": {},
   "outputs": [
    {
     "data": {
      "text/plain": [
       "([<matplotlib.patches.Wedge at 0x24173ce4d00>,\n",
       "  <matplotlib.patches.Wedge at 0x24173cf3730>],\n",
       " [Text(-1.098198743276378, -0.06292471903937331, 'Female'),\n",
       "  Text(1.1980349926651397, 0.06864514804295202, 'Male')],\n",
       " [Text(-0.5990174963325697, -0.03432257402147635, '51.8%'),\n",
       "  Text(0.6988537457213314, 0.04004300302505534, '48.2%')])"
      ]
     },
     "execution_count": 24,
     "metadata": {},
     "output_type": "execute_result"
    },
    {
     "data": {
      "image/png": "[encoded data removed]",
      "text/plain": [
       "<Figure size 432x288 with 1 Axes>"
      ]
     },
     "metadata": {},
     "output_type": "display_data"
    }
   ],
   "source": [
    "plt.pyplot.pie(df['gender'].value_counts(),shadow=True,labels=['Female','Male'],explode=[0,0.1],autopct='%1.1f%%',startangle=90)"
   ]
  },
  {
   "cell_type": "code",
   "execution_count": null,
   "id": "98ea36e5",
   "metadata": {},
   "outputs": [],
   "source": []
  }
 ],
 "metadata": {
  "kernelspec": {
   "display_name": "Python 3 (ipykernel)",
   "language": "python",
   "name": "python3"
  },
  "language_info": {
   "codemirror_mode": {
    "name": "ipython",
    "version": 3
   },
   "file_extension": ".py",
   "mimetype": "text/x-python",
   "name": "python",
   "nbconvert_exporter": "python",
   "pygments_lexer": "ipython3",
   "version": "3.9.7"
  }
 },
 "nbformat": 4,
 "nbformat_minor": 5
}
